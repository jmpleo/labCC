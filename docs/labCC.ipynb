{
 "cells": [
  {
   "cell_type": "markdown",
   "id": "0e1c391d-2566-4740-9d7e-18675b483d86",
   "metadata": {},
   "source": [
    "# Шифр Колонной Замены"
   ]
  },
  {
   "cell_type": "markdown",
   "id": "32e69e25-edca-44fa-8aff-a6f1da20bf0a",
   "metadata": {},
   "source": [
    "<img src=\"./scheme.png\"/>"
   ]
  },
  {
   "cell_type": "markdown",
   "id": "70000942-6b3a-469c-b747-40233308f24f",
   "metadata": {},
   "source": [
    "В данной схеме шифрования используется 2 ключа длины 24 и 32 бита. Они являются начальным заполнением ЛРС-1 и ЛРС-2 соответственно. Каждый байт открытого текста помещается в неавтономный регистр сдвига, после чего совершается 10 тактов. \n",
    "\n",
    "В каждом такте вычисляется:\n",
    "1. значение функции обратной связи $\\phi$ и складывается с очередным битом ключевого потока, который получается на выходе функции F.\n",
    "2. Результат помещается со сдвигом в неавтономный регистр.\n",
    "\n",
    "Полученная после 10 таких тактов байт в регистре является байтом шифртекста. Шифрование продолжается (ЛРС при этом не сбрасываются), пока в открытом тексте не кончатся буквы."
   ]
  },
  {
   "cell_type": "markdown",
   "id": "e2d3a7c8-39fc-4197-8812-26798ace7651",
   "metadata": {},
   "source": [
    "В данной работе предлагается вскрыть шифр по паре открытого и шифр текста, используя криптографическую «слабость» схемы: малая длина управляющей комбинации. \n",
    "\n",
    "Рассматривая пару батов открытого и шифртекста, требуется найти все подстановки, переводящие байты открытого текста в байт шифртекста. Каждая из подстановок определяется 10 битами ключевого потока. Получая на каждую пару букв открытого и шифртекста список возможных отрезков ключевого потока, нужно перебрать варианты гаммы используя критерий на открытый текст."
   ]
  },
  {
   "cell_type": "markdown",
   "id": "ec06f9cc-8508-40fd-9912-cbd1b9efa4d4",
   "metadata": {},
   "source": [
    "## 1. Реализуем шифр"
   ]
  },
  {
   "cell_type": "markdown",
   "id": "ecad0375-effa-4737-b39e-5b97c8256539",
   "metadata": {},
   "source": [
    "Реализуем все необходимые компоненты ширфа, в соответствии со схемой шифрования"
   ]
  },
  {
   "cell_type": "markdown",
   "id": "c87a4b51-bd0b-4787-97ca-87745e752e44",
   "metadata": {
    "jp-MarkdownHeadingCollapsed": true
   },
   "source": [
    "### 1.1. Компоненты управляющего блока"
   ]
  },
  {
   "cell_type": "markdown",
   "id": "911669be",
   "metadata": {},
   "source": [
    "В первую очередь определим функцию $\\phi(x_7,...x_0)=x_0\\oplus x_2x_3x_7$.\n",
    "При этом считаем, что $x=x_7...x_0$ - битовое представление очередного байта, а результрующий бит функции храним в младшем бите выходного байта"
   ]
  },
  {
   "cell_type": "code",
   "execution_count": 1,
   "id": "b7ff3a0a",
   "metadata": {},
   "outputs": [],
   "source": [
    "def phi(x):\n",
    "    return ( \n",
    "        (x) ^ ((x>>2)&(x>>3)&(x>>7)) \n",
    "    ) & 1"
   ]
  },
  {
   "cell_type": "markdown",
   "id": "95300135",
   "metadata": {},
   "source": [
    "Далее определим функцию одного такта $g$ которая зависит от байта состояния $x=(x_7,....,x_0)$ и бита ключевого потока $\\gamma_i$\n",
    "\n",
    "Причем $g_{\\gamma_i}(x) = (\\gamma_i \\oplus \\phi(x), x_7,...,x_1)=(\\gamma_i \\oplus x_0 \\oplus x_2x_3x_7, x_7, ...,x_1)$"
   ]
  },
  {
   "cell_type": "code",
   "execution_count": 2,
   "id": "52c39df7",
   "metadata": {},
   "outputs": [],
   "source": [
    "def g(gamma, x):\n",
    "    \n",
    "    return (\n",
    "        ((x>>1) &0x7F) \n",
    "        ^ \n",
    "        ((phi(x) ^ (gamma &1)) << 7)\n",
    "    )"
   ]
  },
  {
   "cell_type": "markdown",
   "id": "fc7acce3",
   "metadata": {},
   "source": [
    "Обратное преобразование для $g$ можно вычислить как сдивг влево:\n",
    "\n",
    "$g^{-1}_{\\gamma_i}(y) = (y_6,...,y_0,\\phi(y_6,...,y_0,y_7)\\oplus\\gamma_i)$"
   ]
  },
  {
   "cell_type": "markdown",
   "id": "e45e9c35",
   "metadata": {},
   "source": [
    "Действительно, \n",
    "\n",
    "$g_{\\gamma_i}(g_{\\gamma_i}^{-1}(y)) =g_{\\gamma_i}(y_6,...,y_0,\\phi(y_6,...,y_0,y_7)\\oplus\\gamma_i)=$\n",
    "\n",
    "$=(\\gamma_i \\oplus \\phi(y_6,...,y_0,\\phi(y_6,...,y_0,y_7) \\oplus \\gamma_i,y_6,...y_0)=$\n",
    "\n",
    "$=(y_6y_2y_1 \\oplus \\phi(y_6,...,y_0,y_7),y_6,...,y_0)=$\n",
    "\n",
    "$=(y_6y_2y_1 \\oplus y_6y_2y_1 \\oplus y_7,y_6,...,y_0)=(y_7,y_6,...,y_0)=y$"
   ]
  },
  {
   "cell_type": "code",
   "execution_count": 3,
   "id": "3c08f6bc",
   "metadata": {},
   "outputs": [],
   "source": [
    "def inv_g(gamma, y):\n",
    "    return (\n",
    "        ((y<<1) &0xFE)\n",
    "        ^ \n",
    "        phi(\n",
    "            ((y<<1) &0xFF)\n",
    "            ^ \n",
    "            ((y>>7) &1)\n",
    "        )\n",
    "        ^\n",
    "        (gamma &1)\n",
    "    )"
   ]
  },
  {
   "cell_type": "markdown",
   "id": "b0361b65-b149-41e2-b80f-ffe1fcd42fc7",
   "metadata": {},
   "source": [
    "### 1.2. Генератор ключевого потока"
   ]
  },
  {
   "cell_type": "markdown",
   "id": "541d342b",
   "metadata": {},
   "source": [
    "Теперь необходимо определить регистры, реализуемые шифром в генераторе ключевого потока\n",
    "\n",
    "Для этого создадим класс, который будет принимать длину состояния в битах, функцию обратной связи и начальное состояние"
   ]
  },
  {
   "cell_type": "code",
   "execution_count": 4,
   "id": "c1a90c94",
   "metadata": {},
   "outputs": [],
   "source": [
    "class R:\n",
    "    def __init__(self, stateLen, feedBack, initState):\n",
    "        self.s = initState\n",
    "        self.l = stateLen\n",
    "        self.f = feedBack\n",
    "    \n",
    "    # извлечение младшего бита состояния\n",
    "    # с последующм сдивгом вправо и изменением старшего бита\n",
    "    # в соответствии с функцией обратной связи\n",
    "    def pop(self):    \n",
    "        #self.debug()\n",
    "        state = self.s\n",
    "        self.s = (\n",
    "            ((self.f(state) & 1) << (self.l-1)) # формрование старшего бита \n",
    "            ^\n",
    "            ((state >> 1) & ((1 << (self.l-1))-1)) # сдвиг вправо\n",
    "        )\n",
    "        return state & 1 # младший бит\n",
    "    \n",
    "    def debug(self):\n",
    "        print(f\"\\tR[{self.l}]: {bin(self.s)[2:].rjust(self.l, '0')}\")"
   ]
  },
  {
   "cell_type": "markdown",
   "id": "d19c5dea",
   "metadata": {},
   "source": [
    "Зададим регистры битами, которые формируют обратную связь:"
   ]
  },
  {
   "cell_type": "code",
   "execution_count": 5,
   "id": "8c71da92",
   "metadata": {},
   "outputs": [],
   "source": [
    "F1=0x1155105\n",
    "F2=0x101000001"
   ]
  },
  {
   "cell_type": "markdown",
   "id": "37d91232-ff0f-4a85-a26d-ea7cf0eef2a1",
   "metadata": {},
   "source": [
    "Такое представление эквивалентно представлению многочленами:"
   ]
  },
  {
   "cell_type": "code",
   "execution_count": 6,
   "id": "41996854-2aef-4ef7-81c7-3f626ef09305",
   "metadata": {},
   "outputs": [],
   "source": [
    "from sympy import Poly, gcd, symbols, parse_expr"
   ]
  },
  {
   "cell_type": "code",
   "execution_count": 7,
   "id": "e70e1534-df1e-4d8c-980d-23e697803fc4",
   "metadata": {},
   "outputs": [],
   "source": [
    "x = symbols('x')"
   ]
  },
  {
   "cell_type": "code",
   "execution_count": 8,
   "id": "ece259ab-562c-405d-a485-7aa8a8333c93",
   "metadata": {},
   "outputs": [],
   "source": [
    "F1x = Poly(map(int, list(bin( F1 )[2:])), x, modulus=2)\n",
    "F2x = Poly(map(int, list(bin( F2 )[2:])), x, modulus=2)"
   ]
  },
  {
   "cell_type": "code",
   "execution_count": 9,
   "id": "ebd6e0bf-6571-4a20-8671-3edcd0a1c1ce",
   "metadata": {},
   "outputs": [
    {
     "data": {
      "text/latex": [
       "$\\displaystyle \\operatorname{Poly}{\\left( x^{24} + x^{20} + x^{18} + x^{16} + x^{14} + x^{12} + x^{8} + x^{2} + 1, x, domain=\\mathbb{F}_{2} \\right)}$"
      ],
      "text/plain": [
       "Poly(x**24 + x**20 + x**18 + x**16 + x**14 + x**12 + x**8 + x**2 + 1, x, modulus=2)"
      ]
     },
     "execution_count": 9,
     "metadata": {},
     "output_type": "execute_result"
    }
   ],
   "source": [
    "F1x"
   ]
  },
  {
   "cell_type": "code",
   "execution_count": 10,
   "id": "2b0c316a-4f58-40da-a4ed-5db70e151915",
   "metadata": {},
   "outputs": [
    {
     "data": {
      "text/latex": [
       "$\\displaystyle \\operatorname{Poly}{\\left( x^{32} + x^{24} + 1, x, domain=\\mathbb{F}_{2} \\right)}$"
      ],
      "text/plain": [
       "Poly(x**32 + x**24 + 1, x, modulus=2)"
      ]
     },
     "execution_count": 10,
     "metadata": {},
     "output_type": "execute_result"
    }
   ],
   "source": [
    "F2x"
   ]
  },
  {
   "cell_type": "markdown",
   "id": "65d6c2ac-5fcc-48b8-a3c9-a96d6dce6ab7",
   "metadata": {
    "jp-MarkdownHeadingCollapsed": true
   },
   "source": [
    "### 1.3. Функции шифрования и расшифрования"
   ]
  },
  {
   "cell_type": "markdown",
   "id": "cc716f3d",
   "metadata": {},
   "source": [
    "В соответствии со схемой, зашифрование каждого байта $x\\in X$ реализуется:\n",
    "1. вычисление 10 знаков гаммы $\\gamma_1,...,\\gamma_{10}$ как $R1 \\oplus R2$\n",
    "2. 10 тактами функции $g$ на соответствующих знаках гаммы, следующих в прямом порядке - $\\gamma_1,...,\\gamma_{10}$"
   ]
  },
  {
   "cell_type": "markdown",
   "id": "e41ff65b-807e-4bf3-af39-5e5daeb3ddfa",
   "metadata": {},
   "source": [
    "Определим соответствующие функции обратной связи регистров"
   ]
  },
  {
   "cell_type": "code",
   "execution_count": 11,
   "id": "20eaf930-4e46-4b87-a354-49ef2f5572f4",
   "metadata": {},
   "outputs": [],
   "source": [
    "def f1(s):\n",
    "    return bin(s & F1 & 0xFFFFFF).count('1') % 2\n",
    "\n",
    "def f2(s):\n",
    "    return bin(s & F2 & 0xFFFFFFFF).count('1') % 2"
   ]
  },
  {
   "cell_type": "code",
   "execution_count": 12,
   "id": "bc272328",
   "metadata": {},
   "outputs": [],
   "source": [
    "def encryption(X, key1, key2):\n",
    "    R24 = R(stateLen=24, feedBack=f1, initState=key1)\n",
    "    R32 = R(stateLen=32, feedBack=f2, initState=key2)\n",
    "    Y = b''\n",
    "    for x in X: \n",
    "        y = x\n",
    "        gammas = [R24.pop() ^ R32.pop() for _ in range(10)]\n",
    "        for gamma in gammas:\n",
    "            y = g(gamma, y)\n",
    "        Y += bytes([y])\n",
    "    return Y"
   ]
  },
  {
   "cell_type": "markdown",
   "id": "bfbab24e",
   "metadata": {},
   "source": [
    "Расшифрование каждого байта $y\\in Y$ реализуется:\n",
    "1. вычисление 10 знаков гаммы $\\gamma_1,...,\\gamma_{10}$ как $R1 \\oplus R2$\n",
    "2. 10 тактами функции $g^{-1}$ на соответствующих знаках гаммы, следующих в обратном порядке - $\\gamma_{10},...,\\gamma_1$"
   ]
  },
  {
   "cell_type": "code",
   "execution_count": 13,
   "id": "dcc496f9",
   "metadata": {},
   "outputs": [],
   "source": [
    "def decipher(Y, key1, key2):\n",
    "    R24 = R(stateLen=24, feedBack=f1, initState=key1)\n",
    "    R32 = R(stateLen=32, feedBack=f2, initState=key2)\n",
    "    X = b''\n",
    "    for y in Y:\n",
    "        x = y\n",
    "        gammas = [R24.pop() ^ R32.pop() for _ in range(10)]\n",
    "        for gamma in gammas[::-1]: # обратный порядок гамм\n",
    "            x = inv_g(gamma, x)\n",
    "        X += bytes([x])\n",
    "    return X"
   ]
  },
  {
   "cell_type": "markdown",
   "id": "bcc2dfa5-d025-4749-a30c-68bddeb0a2df",
   "metadata": {
    "jp-MarkdownHeadingCollapsed": true
   },
   "source": [
    "### 1.4. Примеры шифрования сообщения"
   ]
  },
  {
   "cell_type": "markdown",
   "id": "c7f2e7bb",
   "metadata": {},
   "source": [
    "Попробуем зашифровать сообщение: \"Криптографические методы защиты информации\"\n",
    "\n",
    "В первую очередь, сгенерируем ключи:"
   ]
  },
  {
   "cell_type": "code",
   "execution_count": 14,
   "id": "73de1983",
   "metadata": {},
   "outputs": [
    {
     "name": "stdout",
     "output_type": "stream",
     "text": [
      "k1: 110010011001111001001\n",
      "k2: 1010000111111000010100000000001\n"
     ]
    }
   ],
   "source": [
    "import random\n",
    "\n",
    "k1 = random.randint(0, 1 << 24)\n",
    "k2 = random.randint(0, 1 << 32)\n",
    "\n",
    "print(f\"k1: {bin(k1)[2:]}\")\n",
    "print(f\"k2: {bin(k2)[2:]}\")"
   ]
  },
  {
   "cell_type": "code",
   "execution_count": 15,
   "id": "a68c52b1",
   "metadata": {},
   "outputs": [],
   "source": [
    "message = \"Криптографические методы защиты информации\"\n",
    "bMessage = bytes(message, encoding=\"utf-8\")"
   ]
  },
  {
   "cell_type": "markdown",
   "id": "7730b767",
   "metadata": {},
   "source": [
    "Вычислим результат зашифрования:"
   ]
  },
  {
   "cell_type": "code",
   "execution_count": 16,
   "id": "6e0995e3",
   "metadata": {},
   "outputs": [
    {
     "name": "stdout",
     "output_type": "stream",
     "text": [
      "b'\\xc27/\\x9c\\x14\\x90\\xd5A\\xaa\\xc7V\\xa4\\xc25/\\x9c\\x14s\\x9dO\\xea@\\x8e\\xeb\\xc2\\x95/\\xc4\\x141\\xd5\\xc1\\xea\\x82nz\\x14\\xe5[\\xd0\\x98\\x06\\x86^\\xbf\\x9f\\x0cB\\xc24\\x17\\xb9\\\\\\\\\\xd5\\xc1\\xaa\\xc7\\x8e\\xa8\\xfa\\xe5(\\x90\\x9e\\xce\\xc0^4\\x9fFz\\x14\\xe5*\\xd0\\xb9\\x06O^m'\n"
     ]
    }
   ],
   "source": [
    "cip = encryption(bMessage, k1, k2)\n",
    "print(cip)"
   ]
  },
  {
   "cell_type": "markdown",
   "id": "4635931b",
   "metadata": {},
   "source": [
    "Расшифруем сообщение:"
   ]
  },
  {
   "cell_type": "code",
   "execution_count": 17,
   "id": "c0bd4378",
   "metadata": {},
   "outputs": [
    {
     "name": "stdout",
     "output_type": "stream",
     "text": [
      "Криптографические методы защиты информации\n"
     ]
    }
   ],
   "source": [
    "p = decipher(cip, k1, k2)\n",
    "print(p.decode('utf-8'))"
   ]
  },
  {
   "cell_type": "markdown",
   "id": "90798cc0",
   "metadata": {},
   "source": [
    "## 2. Пробуем выскрыть шифр "
   ]
  },
  {
   "cell_type": "markdown",
   "id": "67c0c50f-895f-48ce-b58e-49a35fb1322c",
   "metadata": {},
   "source": [
    "Будем рассматривать каждую пару байтов открытого и шифртекста."
   ]
  },
  {
   "cell_type": "markdown",
   "id": "82deca73-6c56-4926-ac8f-3f61b7b3eb0f",
   "metadata": {
    "jp-MarkdownHeadingCollapsed": true
   },
   "source": [
    "### 2.1. Сообщение для анализа"
   ]
  },
  {
   "cell_type": "markdown",
   "id": "c806548b-9838-4f15-bb63-f023b20c3049",
   "metadata": {},
   "source": [
    "Пусть имеются пары о.т./ш.т. текстов, использованных на одном ключе. Сгенерируем ключи и сформируем такие пары:"
   ]
  },
  {
   "cell_type": "code",
   "execution_count": 18,
   "id": "c26d37e4-792e-4549-8d24-45d63dd5eb62",
   "metadata": {},
   "outputs": [
    {
     "name": "stdout",
     "output_type": "stream",
     "text": [
      "k1: 680c81\n",
      "k2: 1000101001110110101100110111001\n"
     ]
    }
   ],
   "source": [
    "k1 = random.randint(0, 1 << 24)\n",
    "k2 = random.randint(0, 1 << 32)\n",
    "\n",
    "print(f\"k1: {hex(k1)[2:]}\")\n",
    "print(f\"k2: {bin(k2)[2:]}\")"
   ]
  },
  {
   "cell_type": "code",
   "execution_count": 19,
   "id": "c2a663b5-61a3-4f7e-8406-0b69849a7a17",
   "metadata": {},
   "outputs": [],
   "source": [
    "bMessage = b'Meet me on Monday at 5pm'"
   ]
  },
  {
   "cell_type": "code",
   "execution_count": 20,
   "id": "51b44991-5181-4b5b-91b6-547b9d153122",
   "metadata": {},
   "outputs": [
    {
     "name": "stdout",
     "output_type": "stream",
     "text": [
      "b'\\x1d,\\xa8\\xc4\\xa4\\x05f\\xda{\\xb2\\xc6Xw~\\xe8\\x83rT\\xe5N\\xeadR@'\n"
     ]
    }
   ],
   "source": [
    "cip = encryption(bMessage, k1, k2)\n",
    "print(cip)"
   ]
  },
  {
   "cell_type": "markdown",
   "id": "3c42f4cb-4577-4bbd-99ed-fa629d3c4e83",
   "metadata": {},
   "source": [
    "### 2.2. Нахождение эквивалентного регистра"
   ]
  },
  {
   "cell_type": "markdown",
   "id": "7121f66d",
   "metadata": {},
   "source": [
    "Для удобства анализа, мы представим два регистра одним.\n",
    "Для этого вычислим НОК их многочленов:"
   ]
  },
  {
   "cell_type": "code",
   "execution_count": 21,
   "id": "1efb93bc-3ee8-4d4c-9fb4-c273a6ec3b72",
   "metadata": {},
   "outputs": [
    {
     "data": {
      "text/latex": [
       "$\\displaystyle \\operatorname{Poly}{\\left( x^{40} + x^{34} + x^{26} + x^{24} + x^{8} + x^{2} + 1, x, domain=\\mathbb{F}_{2} \\right)}$"
      ],
      "text/plain": [
       "Poly(x**40 + x**34 + x**26 + x**24 + x**8 + x**2 + 1, x, modulus=2)"
      ]
     },
     "execution_count": 21,
     "metadata": {},
     "output_type": "execute_result"
    }
   ],
   "source": [
    "LCMx = ( (F1x * F2x) // gcd(F1x, F2x) ).as_poly()\n",
    "LCMx"
   ]
  },
  {
   "cell_type": "markdown",
   "id": "bef3d84d-2d0f-4f9e-beb3-8116fd15d4d2",
   "metadata": {},
   "source": [
    "И в соответствующих бинарной и шеснадцатиричной записях: "
   ]
  },
  {
   "cell_type": "code",
   "execution_count": 22,
   "id": "ce67e14e-949e-4d15-890d-ff6936605a93",
   "metadata": {},
   "outputs": [
    {
     "name": "stdout",
     "output_type": "stream",
     "text": [
      "hex: 10405000105\n",
      "bin: 10000010000000101000000000000000100000101\n"
     ]
    }
   ],
   "source": [
    "LCM = int(''.join(map(str, LCMx.as_list())), base=2)\n",
    "print(f\"hex: {hex(LCM)[2:]}\")\n",
    "print(f\"bin: {bin(LCM)[2:]}\")"
   ]
  },
  {
   "cell_type": "markdown",
   "id": "ae200cb6-27ad-4259-b8da-81f3ec7c39f9",
   "metadata": {},
   "source": [
    "Заметим, что поскольку на каждом символе открытого текста происходит 10 тактов, для хватит $k$ пар о.т./ш.т., где $10k\\ge deg(НОК(F_1, F_2))$"
   ]
  },
  {
   "cell_type": "markdown",
   "id": "6489f09e-80ed-4ba3-8cbf-00d825d11ac9",
   "metadata": {},
   "source": [
    "В нашем случае, хватит 4-ех пар"
   ]
  },
  {
   "cell_type": "code",
   "execution_count": 23,
   "id": "1c0c6357-c053-423e-ba8f-12baece083b1",
   "metadata": {},
   "outputs": [],
   "source": [
    "k = 4"
   ]
  },
  {
   "cell_type": "markdown",
   "id": "dabda6c4-b5cf-4f9b-93d7-5a80e7ec9a25",
   "metadata": {
    "jp-MarkdownHeadingCollapsed": true
   },
   "source": [
    "### 2.3. Вычисление всевозможных подстановок управляющей комбинации  "
   ]
  },
  {
   "cell_type": "markdown",
   "id": "ab28ee64-e66f-4c6a-9abe-1b2ffb1ac55a",
   "metadata": {},
   "source": [
    "Найдем для каждой из 4-х пар подстановки, которые переводят символ открытого текста в соответствующие символ шифрованного текста\n",
    "\n",
    "Заметим, что, подстановок, реализуемых 10 тактами - ровно $2^{10}=1024$, каждая из которых определяется битом ключевого потока.\n",
    "Причем каждая подстановка определяется последовательностью из $2^8$ бит"
   ]
  },
  {
   "cell_type": "markdown",
   "id": "8a60b130-666f-4480-a229-41d56345fa08",
   "metadata": {},
   "source": [
    "Трудозатраты на вычисление всех подстановок небольшие. Вычислим их:"
   ]
  },
  {
   "cell_type": "code",
   "execution_count": 24,
   "id": "fef8b117-f5a2-499b-baa5-ff952bba8a56",
   "metadata": {},
   "outputs": [],
   "source": [
    "# gammas - 10 битное число\n",
    "# i-ый бит соотвествует знаку i-ому знаку гаммы\n",
    "# gammas = 1111000011 соответствует подстановке G:\n",
    "# G = g[1]g[1]g[0]g[0]g[1]g[1]...g[1],\n",
    "# где g[k] = функция одного такта со знаком гаммы k \n",
    "S = {\n",
    "    \n",
    "    gammas: [\n",
    "        \n",
    "        g( (gammas>>9) &1,\n",
    "        g( (gammas>>8) &1,\n",
    "        g( (gammas>>7) &1,\n",
    "        g( (gammas>>6) &1,\n",
    "        g( (gammas>>5) &1,\n",
    "        g( (gammas>>4) &1,\n",
    "        g( (gammas>>3) &1,\n",
    "        g( (gammas>>2) &1,\n",
    "        g( (gammas>>1) &1,\n",
    "        g( (gammas>>0) &1, x )))))))))) \n",
    "        \n",
    "        for x in range(1<<8)\n",
    "    ] \n",
    "    for gammas in range(1<<10)\n",
    "}"
   ]
  },
  {
   "cell_type": "markdown",
   "id": "7429d200-c5a0-487d-a5af-a06370b4d5a5",
   "metadata": {},
   "source": [
    "Кажое $B_i$ состоит из значений отрезка гаммы ($10$ знаков), которые может порождать ключевой поток на $i$-ой букве"
   ]
  },
  {
   "cell_type": "code",
   "execution_count": 25,
   "id": "739f09db-fa47-4f2e-9e51-534b694cec1e",
   "metadata": {},
   "outputs": [
    {
     "name": "stdout",
     "output_type": "stream",
     "text": [
      "{0: [57, 312, 699, 1018], 1: [213, 468, 727, 918], 2: [199, 390, 709, 964], 3: [99, 354, 613, 868]}\n"
     ]
    }
   ],
   "source": [
    "possibleGammas = {}\n",
    "\n",
    "for i in range(k):\n",
    "    possibleGammas[i] = []\n",
    "    for gammas, G in S.items():\n",
    "        if G[ bMessage[ i ] ] == cip[ i ]:\n",
    "            possibleGammas[i].append(gammas)  \n",
    "\n",
    "print(possibleGammas)"
   ]
  },
  {
   "cell_type": "markdown",
   "id": "808bb775",
   "metadata": {},
   "source": [
    "Проинтерпритируем полученый результат. Первый байт открытого текста может перейти в соответствующий байт шифртекста 4-мя вариантами в зависимости от ключевого потока."
   ]
  },
  {
   "cell_type": "markdown",
   "id": "dffc6e00-b0ce-459e-b19d-8f77ad4a8db4",
   "metadata": {
    "jp-MarkdownHeadingCollapsed": true
   },
   "source": [
    "### 2.4. Определяем эквивалентные функции шифрования и расшифрования"
   ]
  },
  {
   "cell_type": "markdown",
   "id": "2314c2a4",
   "metadata": {},
   "source": [
    "Определим функцю обратной связи эквивалентного регистр сдивга, а также эквивалентные функции ширования и расшифрования через регистр $R_{40}$. Используем для этого найденный НОК многочленов в пункте 2.2"
   ]
  },
  {
   "cell_type": "code",
   "execution_count": 26,
   "id": "44249e45",
   "metadata": {},
   "outputs": [],
   "source": [
    "def lcmF(s):\n",
    "    return bin(s & LCM & 0xFFFFFFFFFF).count('1') % 2"
   ]
  },
  {
   "cell_type": "code",
   "execution_count": 27,
   "id": "26cec138",
   "metadata": {},
   "outputs": [],
   "source": [
    "def eq_encryption(Y, key):\n",
    "    R40 = R(stateLen=40, feedBack=lcmF, initState=key)\n",
    "    X = b''\n",
    "    for y in Y:\n",
    "        x = y\n",
    "        gammas = [R40.pop() for _ in range(10)]\n",
    "        for gamma in gammas:\n",
    "            x = g(gamma, x)\n",
    "        X += bytes([x])\n",
    "    return X"
   ]
  },
  {
   "cell_type": "code",
   "execution_count": 28,
   "id": "abf04874",
   "metadata": {},
   "outputs": [],
   "source": [
    "def eq_decipher(Y, key):\n",
    "    R40 = R(stateLen=40, feedBack=lcmF, initState=key)\n",
    "    X = b''\n",
    "    for y in Y:\n",
    "        x = y\n",
    "        gammas = [R40.pop() for _ in range(10)]\n",
    "        for gamma in gammas[::-1]:\n",
    "            x = inv_g(gamma, x)\n",
    "        X += bytes([x])\n",
    "    return X"
   ]
  },
  {
   "cell_type": "markdown",
   "id": "4f1ec295",
   "metadata": {},
   "source": [
    "Проверим, что функции корректны. Для этого попробуем зашифровать и расшифровать сообщение:"
   ]
  },
  {
   "cell_type": "code",
   "execution_count": 29,
   "id": "9be33b7c",
   "metadata": {},
   "outputs": [
    {
     "data": {
      "text/plain": [
       "b'Secure message!'"
      ]
     },
     "execution_count": 29,
     "metadata": {},
     "output_type": "execute_result"
    }
   ],
   "source": [
    "key = random.randint(0, 1<<40)\n",
    "eq_decipher(eq_encryption(b'Secure message!', key), key)"
   ]
  },
  {
   "cell_type": "markdown",
   "id": "ebeba911-01e5-4d94-916a-382c2d6b4bef",
   "metadata": {},
   "source": [
    "Если посмотрим на первые 40 знаков гаммы, которые порождаются регистрами $R_{24}$ и $R_{32}$, а также на знаки гаммы регистра $R_{40}$, то заметим, что они действительно эквивалентны:"
   ]
  },
  {
   "cell_type": "code",
   "execution_count": 30,
   "id": "b8470448-2351-4669-b224-873a93a43c5f",
   "metadata": {},
   "outputs": [
    {
     "name": "stdout",
     "output_type": "stream",
     "text": [
      "R24^R32: 1001100101101100010100110101010100111000\n",
      "    R40: 1001100101101100010100110101010100111000\n"
     ]
    }
   ],
   "source": [
    "R24 = R(stateLen=24, feedBack=f1, initState=k1)\n",
    "R32 = R(stateLen=32, feedBack=f2, initState=k2)\n",
    "R24_R32_gammas_40 = ''.join(map(str, [R24.pop() ^ R32.pop() for _ in range(40)]))[::-1]\n",
    "\n",
    "R40 = R(stateLen=40, feedBack=lcmF, initState=int(R24_R32_gammas_40, base=2))\n",
    "R40_gammas_40 = ''.join(map(str, [R40.pop() for _ in range(40)]))[::-1]\n",
    "\n",
    "print(f'R24^R32: {R24_R32_gammas_40}')\n",
    "print(f'    R40: {R40_gammas_40}')"
   ]
  },
  {
   "cell_type": "markdown",
   "id": "a8f12a75-e6ee-4d49-92a1-0ef571d771bc",
   "metadata": {},
   "source": [
    "Здесь первый знак гаммы соответствует правому (младшему) биту - также, как они лежат в регистре на схеме\n",
    "\n",
    "И вообще, любой отрезок:"
   ]
  },
  {
   "cell_type": "code",
   "execution_count": 31,
   "id": "ee45ae5f-2942-414b-9e87-f2c6cc010ac3",
   "metadata": {},
   "outputs": [
    {
     "name": "stdout",
     "output_type": "stream",
     "text": [
      "True\n"
     ]
    }
   ],
   "source": [
    "Len = 100000\n",
    "\n",
    "R24 = R(stateLen=24, feedBack=f1, initState=k1)\n",
    "R32 = R(stateLen=32, feedBack=f2, initState=k2)\n",
    "\n",
    "\n",
    "R24_R32_gammas = ''.join(map(str, [R24.pop() ^ R32.pop() for _ in range(Len)]))[::-1]\n",
    "\n",
    "R40 = R(stateLen=40, feedBack=lcmF, initState=int(R24_R32_gammas_40, base=2))\n",
    "\n",
    "R40_gammas = ''.join(map(str, [R40.pop() for _ in range(Len)]))[::-1]\n",
    "\n",
    "print(R24_R32_gammas == R40_gammas)"
   ]
  },
  {
   "cell_type": "markdown",
   "id": "4daa631c-98d6-430f-861d-d581a70c5310",
   "metadata": {
    "jp-MarkdownHeadingCollapsed": true
   },
   "source": [
    "### 2.5. Восстановление отрезка гаммы"
   ]
  },
  {
   "cell_type": "code",
   "execution_count": 32,
   "id": "5624c0db-b81e-44e8-b472-de45297741e3",
   "metadata": {},
   "outputs": [
    {
     "data": {
      "text/plain": [
       "{0: [57, 312, 699, 1018],\n",
       " 1: [213, 468, 727, 918],\n",
       " 2: [199, 390, 709, 964],\n",
       " 3: [99, 354, 613, 868]}"
      ]
     },
     "execution_count": 32,
     "metadata": {},
     "output_type": "execute_result"
    }
   ],
   "source": [
    "possibleGammas"
   ]
  },
  {
   "cell_type": "markdown",
   "id": "c18d9fa8",
   "metadata": {},
   "source": [
    "Поскольку эквивалентный регистр сдвига длиной $40$ бит, то один из $4^4$ вариантов ключевого потока является начальным заполнением регистра. Вариантов не много, а значит можно просто перебрать."
   ]
  },
  {
   "cell_type": "code",
   "execution_count": 33,
   "id": "a5adf1a6",
   "metadata": {},
   "outputs": [
    {
     "name": "stdout",
     "output_type": "stream",
     "text": [
      "  1. eq_decipher( cip, '996c535439' ) = 'Meetax%4&`]onda:5)`a 09'\n",
      "  2. eq_decipher( cip, '996c535538' ) = 'Meet me on Monday at 5pm'\n",
      "  3. eq_decipher( cip, '996c575039' ) = 'Meetex% \"}`Mo.da>5)te 0-'\n",
      "  4. eq_decipher( cip, '996c575138' ) = 'Meet$me4kn _o.da} a`$5p{'\n",
      "  5. eq_decipher( cip, '996c5b5c39' ) = 'Meetix%\u0010.{`yo.da25)@i 0\u001d",
      "'\n",
      "  6. eq_decipher( cip, '996c5b5d38' ) = 'Meet(me\u0000gn mo.das aP(1pM'\n",
      "  7. eq_decipher( cip, '996c5e5839' ) = 'Meetl05\u0004+ypionda7u;T,  \t'\n",
      "  8. eq_decipher( cip, '996c5e5938' ) = 'Meet-%u\u0014bn0ondav`qDm1`['\n",
      "  9. eq_decipher( cip, '997c435439' ) = 'Meetpmae3nonda/ e105th'\n",
      " 10. eq_decipher( cip, '997c435538' ) = 'Meet1z!qz}d\u001aondan5-%q 4>'\n",
      " 11. eq_decipher( cip, '997c475039' ) = 'Meettmaq7n$\u0018o.da+ e%45t|'\n",
      " 12. eq_decipher( cip, '997c475138' ) = 'Meet5z!e~o.daj5-1u 4('\n",
      " 13. eq_decipher( cip, '997c4b5c39' ) = 'MeetxmaE;n$(o.da' e\u0015:1tH'\n",
      " 14. eq_decipher( cip, '997c4b5d38' ) = 'Meet;z!Uryd>o.daf5-\u0005{ 4\u001a'\n",
      " 15. eq_decipher( cip, '997c4e5839' ) = 'Meet%qQ<n48onda\"`u\u0001}1d\\'\n",
      " 16. eq_decipher( cip, '997c4e5938' ) = 'Meet<01Aw{t,ondacu?\u0011< $\f",
      "'\n",
      " 17. eq_decipher( cip, 'd92c535439' ) = 'Meet!h%5nk`\u001e",
      "ondaz%)a!00:'\n",
      " 18. eq_decipher( cip, 'd92c535538' ) = 'Meet`e!'x \f",
      "onda90au`%pl'\n",
      " 19. eq_decipher( cip, 'd92c575039' ) = 'Meet%h%!jk`\f",
      "o.da~%)u%00,'\n",
      " 20. eq_decipher( cip, 'd92c575138' ) = 'Meetde5#z \u001c",
      "o.da=0aad%px'\n",
      " 21. eq_decipher( cip, 'd92c5b5c39' ) = 'Meet)h%\u0011fk`:o.dar%)A)40\u001e",
      "'\n",
      " 22. eq_decipher( cip, 'd92c5b5d38' ) = 'Meethe\u0001/| ,o.da30aQh%pL'\n",
      " 23. eq_decipher( cip, 'd92c5e5839' ) = 'Meet, 5\u0005ckp(ondawe;Ul4'\n",
      " 24. eq_decipher( cip, 'd92c5e5938' ) = 'Meetm5u\u0015*~0<onda6pqE-%`X'\n",
      " 25. eq_decipher( cip, 'd93c435439' ) = 'Meet0}ad{z$Iondao0e0p%ti'\n",
      " 26. eq_decipher( cip, 'd93c435538' ) = 'Meetqh!p2kdYonda.%-$104='\n",
      " 27. eq_decipher( cip, 'd93c475039' ) = 'Meet4}apx$[o.dak0e$t%t'\n",
      " 28. eq_decipher( cip, 'd93c475138' ) = 'Meetuh!d6kdIo.da*%-0504)'\n",
      " 29. eq_decipher( cip, 'd93c4b5c39' ) = 'Meet8}aDs~$io.dag0e\u0014z%tI'\n",
      " 30. eq_decipher( cip, 'd93c4b5d38' ) = 'Meet{h!T:kd}o.da&%-\u0004;44\u0019'\n",
      " 31. eq_decipher( cip, 'd93c4e5839' ) = 'Meet?5qPv|4{ondabpu\u0000=%d_'\n",
      "'32. eq_decipher( cip, 'd93c4e5938' ) = 'Meet| 1@=ktmonda#e?\u0010|4$\n"
     ]
    }
   ],
   "source": [
    "i = i = 1\n",
    "for gamma_4 in possibleGammas[3]:\n",
    "    for gamma_3 in possibleGammas[2]:\n",
    "        for gamma_2 in possibleGammas[1]:\n",
    "            for gamma_1 in possibleGammas[0]:\n",
    "                key = int(\n",
    "                      bin( gamma_4 )[2:].rjust(10, '0')\n",
    "                    + bin( gamma_3 )[2:].rjust(10, '0')\n",
    "                    + bin( gamma_2 )[2:].rjust(10, '0')\n",
    "                    + bin( gamma_1 )[2:].rjust(10, '0'),\n",
    "                    base=2\n",
    "                )\n",
    "                try:\n",
    "                    print(\"{:3d}. eq_decipher( cip, '{}' ) = '{}'\". format(\n",
    "                        i,\n",
    "                        hex(key)[2:],\n",
    "                        eq_decipher(cip, key).decode('utf-8') # критерий на корректные символы юникода\n",
    "                    ))\n",
    "                    i+=1\n",
    "                except:\n",
    "                    continue"
   ]
  },
  {
   "cell_type": "markdown",
   "id": "7f79bc0b-d51f-46b3-a423-7b30f162a330",
   "metadata": {},
   "source": [
    "**Таким образом мы сократили перебор ключа с $2^{40}$ до $2^8$ !**"
   ]
  }
 ],
 "metadata": {
  "kernelspec": {
   "display_name": "Python 3 (ipykernel)",
   "language": "python",
   "name": "python3"
  },
  "language_info": {
   "codemirror_mode": {
    "name": "ipython",
    "version": 3
   },
   "file_extension": ".py",
   "mimetype": "text/x-python",
   "name": "python",
   "nbconvert_exporter": "python",
   "pygments_lexer": "ipython3",
   "version": "3.10.6"
  }
 },
 "nbformat": 4,
 "nbformat_minor": 5
}
